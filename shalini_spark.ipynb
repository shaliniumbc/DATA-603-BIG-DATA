{
 "cells": [
  {
   "cell_type": "code",
   "execution_count": 62,
   "id": "0c4f1644",
   "metadata": {},
   "outputs": [
    {
     "name": "stdout",
     "output_type": "stream",
     "text": [
      "Requirement already satisfied: pyspark in /opt/anaconda3/lib/python3.9/site-packages (3.5.0)\n",
      "Requirement already satisfied: py4j==0.10.9.7 in /opt/anaconda3/lib/python3.9/site-packages (from pyspark) (0.10.9.7)\n",
      "Note: you may need to restart the kernel to use updated packages.\n"
     ]
    }
   ],
   "source": [
    "pip install pyspark\n"
   ]
  },
  {
   "cell_type": "markdown",
   "id": "e85f728f",
   "metadata": {},
   "source": [
    "Installing the Pyspark"
   ]
  },
  {
   "cell_type": "code",
   "execution_count": 63,
   "id": "3db18ac9",
   "metadata": {},
   "outputs": [
    {
     "name": "stdout",
     "output_type": "stream",
     "text": [
      "Requirement already satisfied: findspark in /opt/anaconda3/lib/python3.9/site-packages (2.0.1)\n",
      "Note: you may need to restart the kernel to use updated packages.\n"
     ]
    }
   ],
   "source": [
    "pip install findspark\n"
   ]
  },
  {
   "cell_type": "code",
   "execution_count": 64,
   "id": "6d6d71ce",
   "metadata": {},
   "outputs": [],
   "source": [
    "import pandas as pd"
   ]
  },
  {
   "cell_type": "code",
   "execution_count": 65,
   "id": "b5284fe1",
   "metadata": {},
   "outputs": [],
   "source": [
    "import findspark\n",
    "from pyspark import SparkContext\n",
    "from pyspark.sql import SparkSession, Window, Row\n",
    "from pyspark.sql.functions import *\n",
    "from pyspark.sql.types import *\n",
    "import matplotlib.pyplot as plt"
   ]
  },
  {
   "cell_type": "markdown",
   "id": "52abcdd9",
   "metadata": {},
   "source": [
    "Importing all necessary libraries"
   ]
  },
  {
   "cell_type": "code",
   "execution_count": 66,
   "id": "9a30604d",
   "metadata": {},
   "outputs": [],
   "source": [
    "spark = SparkSession \\\n",
    "        .builder \\\n",
    "        .appName(\"shalini\") \\\n",
    "        .getOrCreate()"
   ]
  },
  {
   "cell_type": "markdown",
   "id": "ef459980",
   "metadata": {},
   "source": [
    "Creating a spark session"
   ]
  },
  {
   "cell_type": "code",
   "execution_count": 67,
   "id": "b342ec3f",
   "metadata": {},
   "outputs": [
    {
     "name": "stderr",
     "output_type": "stream",
     "text": [
      "                                                                                \r"
     ]
    }
   ],
   "source": [
    "df=spark.read.csv('/Users/shalinimopuri/Desktop/spark/Crimes_-_2001_to_Present\\ \\(1\\).csv',inferSchema=True,header=True)"
   ]
  },
  {
   "cell_type": "markdown",
   "id": "1db73203",
   "metadata": {},
   "source": [
    "Loading the CSV file and reading the file"
   ]
  },
  {
   "cell_type": "code",
   "execution_count": 68,
   "id": "e034e23f",
   "metadata": {},
   "outputs": [
    {
     "data": {
      "text/plain": [
       "DataFrame[ID: int, Case Number: string, Date: string, Block: string, IUCR: string, Primary Type: string, Description: string, Location Description: string, Arrest: boolean, Domestic: boolean, Beat: int, District: int, Ward: int, Community Area: int, FBI Code: string, X Coordinate: int, Y Coordinate: int, Year: int, Updated On: string, Latitude: double, Longitude: double, Location: string]"
      ]
     },
     "execution_count": 68,
     "metadata": {},
     "output_type": "execute_result"
    }
   ],
   "source": [
    "df"
   ]
  },
  {
   "cell_type": "code",
   "execution_count": 69,
   "id": "25b775ba",
   "metadata": {},
   "outputs": [
    {
     "name": "stdout",
     "output_type": "stream",
     "text": [
      "+--------+-----------+--------------------+--------------------+----+------------------+--------------------+--------------------+------+--------+----+--------+----+--------------+--------+------------+------------+----+--------------------+------------+-------------+--------------------+\n",
      "|      ID|Case Number|                Date|               Block|IUCR|      Primary Type|         Description|Location Description|Arrest|Domestic|Beat|District|Ward|Community Area|FBI Code|X Coordinate|Y Coordinate|Year|          Updated On|    Latitude|    Longitude|            Location|\n",
      "+--------+-----------+--------------------+--------------------+----+------------------+--------------------+--------------------+------+--------+----+--------+----+--------------+--------+------------+------------+----+--------------------+------------+-------------+--------------------+\n",
      "|11037294|   JA371270|03/18/2015 12:00:...|   0000X W WACKER DR|1153|DECEPTIVE PRACTICE|FINANCIAL IDENTIT...|                BANK| false|   false| 111|       1|  42|            32|      11|        NULL|        NULL|2015|08/01/2017 03:52:...|        NULL|         NULL|                NULL|\n",
      "|11646293|   JC213749|12/20/2018 03:00:...|023XX N LOCKWOOD AVE|1154|DECEPTIVE PRACTICE|FINANCIAL IDENTIT...|           APARTMENT| false|   false|2515|      25|  36|            19|      11|        NULL|        NULL|2018|04/06/2019 04:04:...|        NULL|         NULL|                NULL|\n",
      "|11645836|   JC212333|05/01/2016 12:25:...| 055XX S ROCKWELL ST|1153|DECEPTIVE PRACTICE|FINANCIAL IDENTIT...|                NULL| false|   false| 824|       8|  15|            63|      11|        NULL|        NULL|2016|04/06/2019 04:04:...|        NULL|         NULL|                NULL|\n",
      "|11645959|   JC211511|12/20/2018 04:00:...|  045XX N ALBANY AVE|2820|     OTHER OFFENSE|    TELEPHONE THREAT|           RESIDENCE| false|   false|1724|      17|  33|            14|     08A|        NULL|        NULL|2018|04/06/2019 04:04:...|        NULL|         NULL|                NULL|\n",
      "|11645601|   JC212935|06/01/2014 12:01:...| 087XX S SANGAMON ST|1153|DECEPTIVE PRACTICE|FINANCIAL IDENTIT...|           RESIDENCE| false|   false|2222|      22|  21|            71|      11|        NULL|        NULL|2014|04/06/2019 04:04:...|        NULL|         NULL|                NULL|\n",
      "|11646166|   JC213529|09/01/2018 12:01:...|082XX S INGLESIDE...|0810|             THEFT|           OVER $500|           RESIDENCE| false|    true| 631|       6|   8|            44|      06|        NULL|        NULL|2018|04/06/2019 04:04:...|        NULL|         NULL|                NULL|\n",
      "|11645648|   JC212959|01/01/2018 08:00:...| 024XX N MONITOR AVE|1153|DECEPTIVE PRACTICE|FINANCIAL IDENTIT...|           RESIDENCE| false|   false|2515|      25|  30|            19|      11|        NULL|        NULL|2018|04/06/2019 04:04:...|        NULL|         NULL|                NULL|\n",
      "|11645557|   JC212685|04/01/2018 12:01:...|  080XX S VERNON AVE|1153|DECEPTIVE PRACTICE|FINANCIAL IDENTIT...|           RESIDENCE| false|   false| 631|       6|   6|            44|      11|        NULL|        NULL|2018|04/06/2019 04:04:...|        NULL|         NULL|                NULL|\n",
      "|11645527|   JC212744|02/02/2015 10:00:...|  069XX W ARCHER AVE|1153|DECEPTIVE PRACTICE|FINANCIAL IDENTIT...|               OTHER| false|   false| 811|       8|  23|            56|      11|        NULL|        NULL|2015|04/06/2019 04:04:...|        NULL|         NULL|                NULL|\n",
      "|11645833|   JC213044|05/05/2012 12:25:...|     057XX W OHIO ST|1153|DECEPTIVE PRACTICE|FINANCIAL IDENTIT...|                NULL| false|   false|1511|      15|  29|            25|      11|        NULL|        NULL|2012|04/06/2019 04:04:...|        NULL|         NULL|                NULL|\n",
      "|11645568|   JC212803|12/18/2018 11:00:...|  032XX N WILTON AVE|1153|DECEPTIVE PRACTICE|FINANCIAL IDENTIT...|           RESIDENCE| false|   false|1924|      19|  44|             6|      11|        NULL|        NULL|2018|04/06/2019 04:04:...|        NULL|         NULL|                NULL|\n",
      "|12045583|   JD226426|05/07/2020 10:24:...| 035XX S INDIANA AVE|0820|             THEFT|      $500 AND UNDER|           APARTMENT| false|   false| 212|       2|   3|            35|      06|     1178180|     1881621|2020|05/14/2020 08:47:...|41.830481843|-87.621751752|(41.830481843, -8...|\n",
      "|12031001|   JD209965|04/16/2020 05:00:...|     005XX W 32ND ST|0460|           BATTERY|              SIMPLE|           APARTMENT|  true|   false| 915|       9|  11|            60|     08B|     1173292|     1883705|2020|04/23/2020 03:45:...|41.836310224|-87.639624112|(41.836310224, -8...|\n",
      "|12093529|   JD282112|07/01/2020 10:16:...|   081XX S COLES AVE|051A|           ASSAULT|AGGRAVATED - HANDGUN|              STREET|  true|   false| 422|       4|   7|            46|     04A|     1198234|     1851595|2020|07/08/2020 03:41:...|41.747609555|-87.549179329|(41.747609555, -8...|\n",
      "|12178140|   JD381597|09/27/2020 11:29:...| 065XX S WOLCOTT AVE|0460|           BATTERY|              SIMPLE|RESIDENCE - PORCH...| false|   false| 726|       7|  15|            67|     08B|     1164812|     1861251|2020|10/04/2020 03:43:...| 41.77487752|-87.671374872|(41.77487752, -87...|\n",
      "| 4144897|   HL474854|07/10/2005 03:00:...| 062XX S ABERDEEN ST|0430|           BATTERY|AGGRAVATED: OTHER...|              STREET| false|   false| 712|       7|  16|            68|     04B|     1170050|     1863524|2005|02/28/2018 03:56:...|41.781002663|-87.652107119|(41.781002663, -8...|\n",
      "| 1744168|    G553545|09/15/2001 02:00:...|     013XX W POLK ST|0460|           BATTERY|              SIMPLE|              STREET| false|   false|1213|      12|NULL|          NULL|     08B|        NULL|        NULL|2001|08/17/2015 03:03:...|        NULL|         NULL|                NULL|\n",
      "|11641644|   JC207234|03/31/2019 09:30:...|   005XX N ogden ave|0890|             THEFT|       FROM BUILDING|          RESTAURANT| false|   false|1215|      12|   1|            24|      06|        NULL|        NULL|2019|04/07/2019 04:05:...|        NULL|         NULL|                NULL|\n",
      "|11615821|   JC176668|01/01/2016 12:00:...| 054XX N NATCHEZ AVE|1195|DECEPTIVE PRACTICE|FINAN EXPLOIT-ELD...|           RESIDENCE| false|    true|1613|      16|  45|            10|      11|        NULL|        NULL|2016|03/08/2019 04:36:...|        NULL|         NULL|                NULL|\n",
      "|12126129|   JD321064|08/04/2020 08:28:...| 081XX S LOOMIS BLVD|143A| WEAPONS VIOLATION|UNLAWFUL POSSESSI...|              STREET|  true|   false| 613|       6|  21|            71|      15|     1168412|     1850836|2020|08/11/2020 03:42:...|41.746220584|-87.658477307|(41.746220584, -8...|\n",
      "+--------+-----------+--------------------+--------------------+----+------------------+--------------------+--------------------+------+--------+----+--------+----+--------------+--------+------------+------------+----+--------------------+------------+-------------+--------------------+\n",
      "only showing top 20 rows\n",
      "\n"
     ]
    }
   ],
   "source": [
    "df.show()"
   ]
  },
  {
   "cell_type": "code",
   "execution_count": 70,
   "id": "16593a18",
   "metadata": {},
   "outputs": [
    {
     "name": "stdout",
     "output_type": "stream",
     "text": [
      "root\n",
      " |-- ID: integer (nullable = true)\n",
      " |-- Case Number: string (nullable = true)\n",
      " |-- Date: string (nullable = true)\n",
      " |-- Block: string (nullable = true)\n",
      " |-- IUCR: string (nullable = true)\n",
      " |-- Primary Type: string (nullable = true)\n",
      " |-- Description: string (nullable = true)\n",
      " |-- Location Description: string (nullable = true)\n",
      " |-- Arrest: boolean (nullable = true)\n",
      " |-- Domestic: boolean (nullable = true)\n",
      " |-- Beat: integer (nullable = true)\n",
      " |-- District: integer (nullable = true)\n",
      " |-- Ward: integer (nullable = true)\n",
      " |-- Community Area: integer (nullable = true)\n",
      " |-- FBI Code: string (nullable = true)\n",
      " |-- X Coordinate: integer (nullable = true)\n",
      " |-- Y Coordinate: integer (nullable = true)\n",
      " |-- Year: integer (nullable = true)\n",
      " |-- Updated On: string (nullable = true)\n",
      " |-- Latitude: double (nullable = true)\n",
      " |-- Longitude: double (nullable = true)\n",
      " |-- Location: string (nullable = true)\n",
      "\n"
     ]
    }
   ],
   "source": [
    "df.printSchema()"
   ]
  },
  {
   "cell_type": "markdown",
   "id": "990d2785",
   "metadata": {},
   "source": [
    "Printing the data"
   ]
  },
  {
   "cell_type": "markdown",
   "id": "e0295b9d",
   "metadata": {},
   "source": [
    "# Removing all null values"
   ]
  },
  {
   "cell_type": "code",
   "execution_count": 71,
   "id": "3f12670b",
   "metadata": {},
   "outputs": [
    {
     "name": "stderr",
     "output_type": "stream",
     "text": [
      "                                                                                \r"
     ]
    },
    {
     "data": {
      "text/plain": [
       "7918798"
      ]
     },
     "execution_count": 71,
     "metadata": {},
     "output_type": "execute_result"
    }
   ],
   "source": [
    "df.count()"
   ]
  },
  {
   "cell_type": "code",
   "execution_count": 72,
   "id": "eeff5785",
   "metadata": {},
   "outputs": [],
   "source": [
    "null_data = df.dropna('any')"
   ]
  },
  {
   "cell_type": "code",
   "execution_count": 73,
   "id": "057220c2",
   "metadata": {},
   "outputs": [
    {
     "name": "stderr",
     "output_type": "stream",
     "text": [
      "                                                                                \r"
     ]
    },
    {
     "data": {
      "text/plain": [
       "7214526"
      ]
     },
     "execution_count": 73,
     "metadata": {},
     "output_type": "execute_result"
    }
   ],
   "source": [
    "null_data.count()"
   ]
  },
  {
   "cell_type": "code",
   "execution_count": 74,
   "id": "84cc3121",
   "metadata": {},
   "outputs": [
    {
     "name": "stdout",
     "output_type": "stream",
     "text": [
      "+--------+-----------+--------------------+--------------------+----+--------------------+--------------------+--------------------+------+--------+----+--------+----+--------------+--------+------------+------------+----+--------------------+------------+-------------+--------------------+\n",
      "|      ID|Case Number|                Date|               Block|IUCR|        Primary Type|         Description|Location Description|Arrest|Domestic|Beat|District|Ward|Community Area|FBI Code|X Coordinate|Y Coordinate|Year|          Updated On|    Latitude|    Longitude|            Location|\n",
      "+--------+-----------+--------------------+--------------------+----+--------------------+--------------------+--------------------+------+--------+----+--------+----+--------------+--------+------------+------------+----+--------------------+------------+-------------+--------------------+\n",
      "|12045583|   JD226426|05/07/2020 10:24:...| 035XX S INDIANA AVE|0820|               THEFT|      $500 AND UNDER|           APARTMENT| false|   false| 212|       2|   3|            35|      06|     1178180|     1881621|2020|05/14/2020 08:47:...|41.830481843|-87.621751752|(41.830481843, -8...|\n",
      "|12031001|   JD209965|04/16/2020 05:00:...|     005XX W 32ND ST|0460|             BATTERY|              SIMPLE|           APARTMENT|  true|   false| 915|       9|  11|            60|     08B|     1173292|     1883705|2020|04/23/2020 03:45:...|41.836310224|-87.639624112|(41.836310224, -8...|\n",
      "|12093529|   JD282112|07/01/2020 10:16:...|   081XX S COLES AVE|051A|             ASSAULT|AGGRAVATED - HANDGUN|              STREET|  true|   false| 422|       4|   7|            46|     04A|     1198234|     1851595|2020|07/08/2020 03:41:...|41.747609555|-87.549179329|(41.747609555, -8...|\n",
      "|12178140|   JD381597|09/27/2020 11:29:...| 065XX S WOLCOTT AVE|0460|             BATTERY|              SIMPLE|RESIDENCE - PORCH...| false|   false| 726|       7|  15|            67|     08B|     1164812|     1861251|2020|10/04/2020 03:43:...| 41.77487752|-87.671374872|(41.77487752, -87...|\n",
      "| 4144897|   HL474854|07/10/2005 03:00:...| 062XX S ABERDEEN ST|0430|             BATTERY|AGGRAVATED: OTHER...|              STREET| false|   false| 712|       7|  16|            68|     04B|     1170050|     1863524|2005|02/28/2018 03:56:...|41.781002663|-87.652107119|(41.781002663, -8...|\n",
      "|12126129|   JD321064|08/04/2020 08:28:...| 081XX S LOOMIS BLVD|143A|   WEAPONS VIOLATION|UNLAWFUL POSSESSI...|              STREET|  true|   false| 613|       6|  21|            71|      15|     1168412|     1850836|2020|08/11/2020 03:42:...|41.746220584|-87.658477307|(41.746220584, -8...|\n",
      "|12010314|   JD186932|03/15/2020 09:00:...|    051XX W HURON ST|2820|       OTHER OFFENSE|    TELEPHONE THREAT|           APARTMENT| false|   false|1531|      15|  37|            25|     08A|     1141763|     1904131|2020|03/22/2020 03:41:...|41.893002363|-87.754811709|(41.893002363, -8...|\n",
      "|12067286|   JD251718|06/02/2020 10:00:...| 042XX S EMERALD AVE|0820|               THEFT|      $500 AND UNDER|              STREET|  true|   false| 925|       9|  11|            61|      06|     1172009|     1876708|2020|06/09/2020 03:43:...|41.817138145|-87.644537728|(41.817138145, -8...|\n",
      "| 4229528|   HL545852|08/12/2005 11:00:...|063XX S COTTAGE G...|3730|INTERFERENCE WITH...| OBSTRUCTING JUSTICE|            SIDEWALK|  true|   false| 312|       3|  20|            42|      24|     1182654|     1863077|2005|02/28/2018 03:56:...|41.779492755|-87.605912536|(41.779492755, -8...|\n",
      "|12163191|   JD364357|09/11/2020 10:44:...|008XX N TRUMBULL AVE|0486|             BATTERY|DOMESTIC BATTERY ...|           RESIDENCE|  true|    true|1121|      11|  27|            23|     08B|     1153223|     1905475|2020|09/07/2021 03:41:...|41.896470682|-87.712687444|(41.896470682, -8...|\n",
      "|12142075|   JD339709|08/21/2020 12:00:...|015XX N MILWAUKEE...|0420|             BATTERY|AGGRAVATED - KNIF...|            SIDEWALK| false|   false|1424|      14|   1|            24|     04B|     1163078|     1910357|2020|08/28/2020 03:42:...| 41.90966592|-87.676354472|(41.90966592, -87...|\n",
      "|12005594|   JD181480|03/11/2020 12:00:...|     040XX W 26TH ST|0860|               THEFT|        RETAIL THEFT|  SMALL RETAIL STORE| false|   false|1031|      10|  22|            30|      06|     1150021|     1886423|2020|03/18/2020 03:41:...|41.844252757|-87.724943845|(41.844252757, -8...|\n",
      "|12070567|   JD249245|06/01/2020 01:20:...|024XX N MILWAUKEE...|0620|            BURGLARY|      UNLAWFUL ENTRY|  SMALL RETAIL STORE| false|   false|1414|      14|   1|            22|      05|     1156086|     1916141|2020|07/06/2020 03:40:...|41.925681769|-87.701883719|(41.925681769, -8...|\n",
      "|12057551|   JD240361|05/23/2020 12:20:...| 068XX S LOOMIS BLVD|0486|             BATTERY|DOMESTIC BATTERY ...|              STREET| false|    true| 724|       7|  17|            67|     08B|     1168179|     1859299|2020|09/07/2021 03:41:...|41.769449202|-87.659088027|(41.769449202, -8...|\n",
      "|12057185|   JD239952|05/22/2020 10:29:...|   0000X N LOREL AVE|2024|           NARCOTICS|POSSESS - HEROIN ...|              STREET|  true|   false|1522|      15|  28|            25|      18|     1140721|     1899686|2020|05/29/2020 03:41:...|41.880823946|-87.758747941|(41.880823946, -8...|\n",
      "|12107263|   JD298884|07/15/2020 10:15:...| 070XX S CHAPPEL AVE|0560|             ASSAULT|              SIMPLE|           APARTMENT| false|    true| 331|       3|   5|            43|     08A|     1191099|     1858560|2020|07/22/2020 03:42:...|41.766897557|-87.575098672|(41.766897557, -8...|\n",
      "|12178347|   JD382022|09/28/2020 10:23:...|038XX W JACKSON BLVD|2820|       OTHER OFFENSE|    TELEPHONE THREAT|     OTHER (SPECIFY)| false|   false|1133|      11|  28|            26|     08A|     1150770|     1898411|2020|10/05/2020 03:40:...|41.877134658|-87.721881801|(41.877134658, -8...|\n",
      "|12164381|   JD361415|09/09/2020 09:23:...|  081XX S VERNON AVE|0560|             ASSAULT|              SIMPLE|           RESIDENCE| false|   false| 631|       6|   6|            44|     08A|     1180660|     1851072|2020|09/16/2020 03:41:...|41.746595831|-87.613590958|(41.746595831, -8...|\n",
      "|12072697|   JD257284|06/06/2020 07:45:...|065XX S UNIVERSIT...|2820|       OTHER OFFENSE|    TELEPHONE THREAT|     OTHER (SPECIFY)| false|   false| 321|       3|   5|            42|     08A|     1184679|     1861785|2020|06/13/2020 03:42:...|41.775900146|-87.598529213|(41.775900146, -8...|\n",
      "|12126191|   JD321188|08/05/2020 01:00:...|025XX S MICHIGAN AVE|0454|             BATTERY|AGGRAVATED P.O. -...|HOSPITAL BUILDING...|  true|   false| 133|       1|   4|            33|     08B|     1177647|     1887564|2020|08/12/2020 03:41:...|41.846801978|-87.623527134|(41.846801978, -8...|\n",
      "+--------+-----------+--------------------+--------------------+----+--------------------+--------------------+--------------------+------+--------+----+--------+----+--------------+--------+------------+------------+----+--------------------+------------+-------------+--------------------+\n",
      "only showing top 20 rows\n",
      "\n"
     ]
    }
   ],
   "source": [
    "null_data.show()"
   ]
  },
  {
   "cell_type": "markdown",
   "id": "68119abc",
   "metadata": {},
   "source": [
    "# Changing the Date column into data type"
   ]
  },
  {
   "cell_type": "code",
   "execution_count": 75,
   "id": "d6dc53b7",
   "metadata": {},
   "outputs": [
    {
     "data": {
      "text/plain": [
       "DataFrame[ID: int, Case Number: string, Date: string, Block: string, IUCR: string, Primary Type: string, Description: string, Location Description: string, Arrest: boolean, Domestic: boolean, Beat: int, District: int, Ward: int, Community Area: int, FBI Code: string, X Coordinate: int, Y Coordinate: int, Year: int, Updated On: string, Latitude: double, Longitude: double, Location: string]"
      ]
     },
     "execution_count": 75,
     "metadata": {},
     "output_type": "execute_result"
    }
   ],
   "source": [
    "null_data"
   ]
  },
  {
   "cell_type": "code",
   "execution_count": 76,
   "id": "cb6a7509",
   "metadata": {},
   "outputs": [],
   "source": [
    "crime_data =null_data.withColumn(\"Date\", to_date(col(\"Date\"), \"MM/dd/yyyy hh:mm:ss a\"))"
   ]
  },
  {
   "cell_type": "code",
   "execution_count": 77,
   "id": "85202384",
   "metadata": {},
   "outputs": [
    {
     "data": {
      "text/plain": [
       "DataFrame[ID: int, Case Number: string, Date: date, Block: string, IUCR: string, Primary Type: string, Description: string, Location Description: string, Arrest: boolean, Domestic: boolean, Beat: int, District: int, Ward: int, Community Area: int, FBI Code: string, X Coordinate: int, Y Coordinate: int, Year: int, Updated On: string, Latitude: double, Longitude: double, Location: string]"
      ]
     },
     "execution_count": 77,
     "metadata": {},
     "output_type": "execute_result"
    }
   ],
   "source": [
    "crime_data"
   ]
  },
  {
   "cell_type": "code",
   "execution_count": 78,
   "id": "3989d8ab",
   "metadata": {},
   "outputs": [
    {
     "name": "stdout",
     "output_type": "stream",
     "text": [
      "+--------+-----------+----------+--------------------+----+--------------------+--------------------+--------------------+------+--------+----+--------+----+--------------+--------+------------+------------+----+--------------------+------------+-------------+--------------------+\n",
      "|      ID|Case Number|      Date|               Block|IUCR|        Primary Type|         Description|Location Description|Arrest|Domestic|Beat|District|Ward|Community Area|FBI Code|X Coordinate|Y Coordinate|Year|          Updated On|    Latitude|    Longitude|            Location|\n",
      "+--------+-----------+----------+--------------------+----+--------------------+--------------------+--------------------+------+--------+----+--------+----+--------------+--------+------------+------------+----+--------------------+------------+-------------+--------------------+\n",
      "|12045583|   JD226426|2020-05-07| 035XX S INDIANA AVE|0820|               THEFT|      $500 AND UNDER|           APARTMENT| false|   false| 212|       2|   3|            35|      06|     1178180|     1881621|2020|05/14/2020 08:47:...|41.830481843|-87.621751752|(41.830481843, -8...|\n",
      "|12031001|   JD209965|2020-04-16|     005XX W 32ND ST|0460|             BATTERY|              SIMPLE|           APARTMENT|  true|   false| 915|       9|  11|            60|     08B|     1173292|     1883705|2020|04/23/2020 03:45:...|41.836310224|-87.639624112|(41.836310224, -8...|\n",
      "|12093529|   JD282112|2020-07-01|   081XX S COLES AVE|051A|             ASSAULT|AGGRAVATED - HANDGUN|              STREET|  true|   false| 422|       4|   7|            46|     04A|     1198234|     1851595|2020|07/08/2020 03:41:...|41.747609555|-87.549179329|(41.747609555, -8...|\n",
      "|12178140|   JD381597|2020-09-27| 065XX S WOLCOTT AVE|0460|             BATTERY|              SIMPLE|RESIDENCE - PORCH...| false|   false| 726|       7|  15|            67|     08B|     1164812|     1861251|2020|10/04/2020 03:43:...| 41.77487752|-87.671374872|(41.77487752, -87...|\n",
      "| 4144897|   HL474854|2005-07-10| 062XX S ABERDEEN ST|0430|             BATTERY|AGGRAVATED: OTHER...|              STREET| false|   false| 712|       7|  16|            68|     04B|     1170050|     1863524|2005|02/28/2018 03:56:...|41.781002663|-87.652107119|(41.781002663, -8...|\n",
      "|12126129|   JD321064|2020-08-04| 081XX S LOOMIS BLVD|143A|   WEAPONS VIOLATION|UNLAWFUL POSSESSI...|              STREET|  true|   false| 613|       6|  21|            71|      15|     1168412|     1850836|2020|08/11/2020 03:42:...|41.746220584|-87.658477307|(41.746220584, -8...|\n",
      "|12010314|   JD186932|2020-03-15|    051XX W HURON ST|2820|       OTHER OFFENSE|    TELEPHONE THREAT|           APARTMENT| false|   false|1531|      15|  37|            25|     08A|     1141763|     1904131|2020|03/22/2020 03:41:...|41.893002363|-87.754811709|(41.893002363, -8...|\n",
      "|12067286|   JD251718|2020-06-02| 042XX S EMERALD AVE|0820|               THEFT|      $500 AND UNDER|              STREET|  true|   false| 925|       9|  11|            61|      06|     1172009|     1876708|2020|06/09/2020 03:43:...|41.817138145|-87.644537728|(41.817138145, -8...|\n",
      "| 4229528|   HL545852|2005-08-12|063XX S COTTAGE G...|3730|INTERFERENCE WITH...| OBSTRUCTING JUSTICE|            SIDEWALK|  true|   false| 312|       3|  20|            42|      24|     1182654|     1863077|2005|02/28/2018 03:56:...|41.779492755|-87.605912536|(41.779492755, -8...|\n",
      "|12163191|   JD364357|2020-09-11|008XX N TRUMBULL AVE|0486|             BATTERY|DOMESTIC BATTERY ...|           RESIDENCE|  true|    true|1121|      11|  27|            23|     08B|     1153223|     1905475|2020|09/07/2021 03:41:...|41.896470682|-87.712687444|(41.896470682, -8...|\n",
      "|12142075|   JD339709|2020-08-21|015XX N MILWAUKEE...|0420|             BATTERY|AGGRAVATED - KNIF...|            SIDEWALK| false|   false|1424|      14|   1|            24|     04B|     1163078|     1910357|2020|08/28/2020 03:42:...| 41.90966592|-87.676354472|(41.90966592, -87...|\n",
      "|12005594|   JD181480|2020-03-11|     040XX W 26TH ST|0860|               THEFT|        RETAIL THEFT|  SMALL RETAIL STORE| false|   false|1031|      10|  22|            30|      06|     1150021|     1886423|2020|03/18/2020 03:41:...|41.844252757|-87.724943845|(41.844252757, -8...|\n",
      "|12070567|   JD249245|2020-06-01|024XX N MILWAUKEE...|0620|            BURGLARY|      UNLAWFUL ENTRY|  SMALL RETAIL STORE| false|   false|1414|      14|   1|            22|      05|     1156086|     1916141|2020|07/06/2020 03:40:...|41.925681769|-87.701883719|(41.925681769, -8...|\n",
      "|12057551|   JD240361|2020-05-23| 068XX S LOOMIS BLVD|0486|             BATTERY|DOMESTIC BATTERY ...|              STREET| false|    true| 724|       7|  17|            67|     08B|     1168179|     1859299|2020|09/07/2021 03:41:...|41.769449202|-87.659088027|(41.769449202, -8...|\n",
      "|12057185|   JD239952|2020-05-22|   0000X N LOREL AVE|2024|           NARCOTICS|POSSESS - HEROIN ...|              STREET|  true|   false|1522|      15|  28|            25|      18|     1140721|     1899686|2020|05/29/2020 03:41:...|41.880823946|-87.758747941|(41.880823946, -8...|\n",
      "|12107263|   JD298884|2020-07-15| 070XX S CHAPPEL AVE|0560|             ASSAULT|              SIMPLE|           APARTMENT| false|    true| 331|       3|   5|            43|     08A|     1191099|     1858560|2020|07/22/2020 03:42:...|41.766897557|-87.575098672|(41.766897557, -8...|\n",
      "|12178347|   JD382022|2020-09-28|038XX W JACKSON BLVD|2820|       OTHER OFFENSE|    TELEPHONE THREAT|     OTHER (SPECIFY)| false|   false|1133|      11|  28|            26|     08A|     1150770|     1898411|2020|10/05/2020 03:40:...|41.877134658|-87.721881801|(41.877134658, -8...|\n",
      "|12164381|   JD361415|2020-09-09|  081XX S VERNON AVE|0560|             ASSAULT|              SIMPLE|           RESIDENCE| false|   false| 631|       6|   6|            44|     08A|     1180660|     1851072|2020|09/16/2020 03:41:...|41.746595831|-87.613590958|(41.746595831, -8...|\n",
      "|12072697|   JD257284|2020-06-06|065XX S UNIVERSIT...|2820|       OTHER OFFENSE|    TELEPHONE THREAT|     OTHER (SPECIFY)| false|   false| 321|       3|   5|            42|     08A|     1184679|     1861785|2020|06/13/2020 03:42:...|41.775900146|-87.598529213|(41.775900146, -8...|\n",
      "|12126191|   JD321188|2020-08-05|025XX S MICHIGAN AVE|0454|             BATTERY|AGGRAVATED P.O. -...|HOSPITAL BUILDING...|  true|   false| 133|       1|   4|            33|     08B|     1177647|     1887564|2020|08/12/2020 03:41:...|41.846801978|-87.623527134|(41.846801978, -8...|\n",
      "+--------+-----------+----------+--------------------+----+--------------------+--------------------+--------------------+------+--------+----+--------+----+--------------+--------+------------+------------+----+--------------------+------------+-------------+--------------------+\n",
      "only showing top 20 rows\n",
      "\n"
     ]
    }
   ],
   "source": [
    "crime_data.show()"
   ]
  },
  {
   "cell_type": "markdown",
   "id": "42a450b5",
   "metadata": {},
   "source": [
    "# Filtering the data from the last ten years i.e., 2013-2023"
   ]
  },
  {
   "cell_type": "code",
   "execution_count": 79,
   "id": "0e67ddb2",
   "metadata": {},
   "outputs": [],
   "source": [
    "ten_years = crime_data.filter((crime_data[\"Year\"] >= 2013))"
   ]
  },
  {
   "cell_type": "code",
   "execution_count": 80,
   "id": "082b401a",
   "metadata": {},
   "outputs": [
    {
     "name": "stderr",
     "output_type": "stream",
     "text": [
      "                                                                                \r"
     ]
    },
    {
     "data": {
      "text/plain": [
       "2734339"
      ]
     },
     "execution_count": 80,
     "metadata": {},
     "output_type": "execute_result"
    }
   ],
   "source": [
    "ten_years.count()"
   ]
  },
  {
   "cell_type": "code",
   "execution_count": 81,
   "id": "b4878e27",
   "metadata": {},
   "outputs": [
    {
     "name": "stdout",
     "output_type": "stream",
     "text": [
      "+--------+-----------+----------+--------------------+----+-----------------+--------------------+--------------------+------+--------+----+--------+----+--------------+--------+------------+------------+----+--------------------+------------+-------------+--------------------+\n",
      "|      ID|Case Number|      Date|               Block|IUCR|     Primary Type|         Description|Location Description|Arrest|Domestic|Beat|District|Ward|Community Area|FBI Code|X Coordinate|Y Coordinate|Year|          Updated On|    Latitude|    Longitude|            Location|\n",
      "+--------+-----------+----------+--------------------+----+-----------------+--------------------+--------------------+------+--------+----+--------+----+--------------+--------+------------+------------+----+--------------------+------------+-------------+--------------------+\n",
      "|12045583|   JD226426|2020-05-07| 035XX S INDIANA AVE|0820|            THEFT|      $500 AND UNDER|           APARTMENT| false|   false| 212|       2|   3|            35|      06|     1178180|     1881621|2020|05/14/2020 08:47:...|41.830481843|-87.621751752|(41.830481843, -8...|\n",
      "|12031001|   JD209965|2020-04-16|     005XX W 32ND ST|0460|          BATTERY|              SIMPLE|           APARTMENT|  true|   false| 915|       9|  11|            60|     08B|     1173292|     1883705|2020|04/23/2020 03:45:...|41.836310224|-87.639624112|(41.836310224, -8...|\n",
      "|12093529|   JD282112|2020-07-01|   081XX S COLES AVE|051A|          ASSAULT|AGGRAVATED - HANDGUN|              STREET|  true|   false| 422|       4|   7|            46|     04A|     1198234|     1851595|2020|07/08/2020 03:41:...|41.747609555|-87.549179329|(41.747609555, -8...|\n",
      "|12178140|   JD381597|2020-09-27| 065XX S WOLCOTT AVE|0460|          BATTERY|              SIMPLE|RESIDENCE - PORCH...| false|   false| 726|       7|  15|            67|     08B|     1164812|     1861251|2020|10/04/2020 03:43:...| 41.77487752|-87.671374872|(41.77487752, -87...|\n",
      "|12126129|   JD321064|2020-08-04| 081XX S LOOMIS BLVD|143A|WEAPONS VIOLATION|UNLAWFUL POSSESSI...|              STREET|  true|   false| 613|       6|  21|            71|      15|     1168412|     1850836|2020|08/11/2020 03:42:...|41.746220584|-87.658477307|(41.746220584, -8...|\n",
      "|12010314|   JD186932|2020-03-15|    051XX W HURON ST|2820|    OTHER OFFENSE|    TELEPHONE THREAT|           APARTMENT| false|   false|1531|      15|  37|            25|     08A|     1141763|     1904131|2020|03/22/2020 03:41:...|41.893002363|-87.754811709|(41.893002363, -8...|\n",
      "|12067286|   JD251718|2020-06-02| 042XX S EMERALD AVE|0820|            THEFT|      $500 AND UNDER|              STREET|  true|   false| 925|       9|  11|            61|      06|     1172009|     1876708|2020|06/09/2020 03:43:...|41.817138145|-87.644537728|(41.817138145, -8...|\n",
      "|12163191|   JD364357|2020-09-11|008XX N TRUMBULL AVE|0486|          BATTERY|DOMESTIC BATTERY ...|           RESIDENCE|  true|    true|1121|      11|  27|            23|     08B|     1153223|     1905475|2020|09/07/2021 03:41:...|41.896470682|-87.712687444|(41.896470682, -8...|\n",
      "|12142075|   JD339709|2020-08-21|015XX N MILWAUKEE...|0420|          BATTERY|AGGRAVATED - KNIF...|            SIDEWALK| false|   false|1424|      14|   1|            24|     04B|     1163078|     1910357|2020|08/28/2020 03:42:...| 41.90966592|-87.676354472|(41.90966592, -87...|\n",
      "|12005594|   JD181480|2020-03-11|     040XX W 26TH ST|0860|            THEFT|        RETAIL THEFT|  SMALL RETAIL STORE| false|   false|1031|      10|  22|            30|      06|     1150021|     1886423|2020|03/18/2020 03:41:...|41.844252757|-87.724943845|(41.844252757, -8...|\n",
      "|12070567|   JD249245|2020-06-01|024XX N MILWAUKEE...|0620|         BURGLARY|      UNLAWFUL ENTRY|  SMALL RETAIL STORE| false|   false|1414|      14|   1|            22|      05|     1156086|     1916141|2020|07/06/2020 03:40:...|41.925681769|-87.701883719|(41.925681769, -8...|\n",
      "|12057551|   JD240361|2020-05-23| 068XX S LOOMIS BLVD|0486|          BATTERY|DOMESTIC BATTERY ...|              STREET| false|    true| 724|       7|  17|            67|     08B|     1168179|     1859299|2020|09/07/2021 03:41:...|41.769449202|-87.659088027|(41.769449202, -8...|\n",
      "|12057185|   JD239952|2020-05-22|   0000X N LOREL AVE|2024|        NARCOTICS|POSSESS - HEROIN ...|              STREET|  true|   false|1522|      15|  28|            25|      18|     1140721|     1899686|2020|05/29/2020 03:41:...|41.880823946|-87.758747941|(41.880823946, -8...|\n",
      "|12107263|   JD298884|2020-07-15| 070XX S CHAPPEL AVE|0560|          ASSAULT|              SIMPLE|           APARTMENT| false|    true| 331|       3|   5|            43|     08A|     1191099|     1858560|2020|07/22/2020 03:42:...|41.766897557|-87.575098672|(41.766897557, -8...|\n",
      "|12178347|   JD382022|2020-09-28|038XX W JACKSON BLVD|2820|    OTHER OFFENSE|    TELEPHONE THREAT|     OTHER (SPECIFY)| false|   false|1133|      11|  28|            26|     08A|     1150770|     1898411|2020|10/05/2020 03:40:...|41.877134658|-87.721881801|(41.877134658, -8...|\n",
      "|12164381|   JD361415|2020-09-09|  081XX S VERNON AVE|0560|          ASSAULT|              SIMPLE|           RESIDENCE| false|   false| 631|       6|   6|            44|     08A|     1180660|     1851072|2020|09/16/2020 03:41:...|41.746595831|-87.613590958|(41.746595831, -8...|\n",
      "|12072697|   JD257284|2020-06-06|065XX S UNIVERSIT...|2820|    OTHER OFFENSE|    TELEPHONE THREAT|     OTHER (SPECIFY)| false|   false| 321|       3|   5|            42|     08A|     1184679|     1861785|2020|06/13/2020 03:42:...|41.775900146|-87.598529213|(41.775900146, -8...|\n",
      "|12126191|   JD321188|2020-08-05|025XX S MICHIGAN AVE|0454|          BATTERY|AGGRAVATED P.O. -...|HOSPITAL BUILDING...|  true|   false| 133|       1|   4|            33|     08B|     1177647|     1887564|2020|08/12/2020 03:41:...|41.846801978|-87.623527134|(41.846801978, -8...|\n",
      "|12018869|   JD196508|2020-03-27|066XX S SPAULDING...|141A|WEAPONS VIOLATION|UNLAWFUL USE - HA...|              STREET| false|   false| 831|       8|  15|            66|      15|     1155539|     1860219|2020|04/03/2020 03:58:...|41.772236394|-87.705396225|(41.772236394, -8...|\n",
      "|12068919|   JD253635|2020-06-04| 010XX W DIVISION ST|2820|    OTHER OFFENSE|    TELEPHONE THREAT|     OTHER (SPECIFY)| false|   false|1822|      18|  27|             8|     08A|     1169314|     1908181|2020|06/11/2020 03:42:...|41.903561493|-87.653509519|(41.903561493, -8...|\n",
      "+--------+-----------+----------+--------------------+----+-----------------+--------------------+--------------------+------+--------+----+--------+----+--------------+--------+------------+------------+----+--------------------+------------+-------------+--------------------+\n",
      "only showing top 20 rows\n",
      "\n"
     ]
    }
   ],
   "source": [
    "ten_years.show()"
   ]
  },
  {
   "cell_type": "markdown",
   "id": "9b481045",
   "metadata": {},
   "source": [
    "# Removing the records with the following crime types"
   ]
  },
  {
   "cell_type": "code",
   "execution_count": 82,
   "id": "6a73f140",
   "metadata": {
    "scrolled": true
   },
   "outputs": [
    {
     "name": "stdout",
     "output_type": "stream",
     "text": [
      "+--------+-----------+----------+--------------------+----+-------------------+--------------------+--------------------+------+--------+----+--------+----+--------------+--------+------------+------------+----+--------------------+------------+-------------+--------------------+\n",
      "|      ID|Case Number|      Date|               Block|IUCR|       Primary Type|         Description|Location Description|Arrest|Domestic|Beat|District|Ward|Community Area|FBI Code|X Coordinate|Y Coordinate|Year|          Updated On|    Latitude|    Longitude|            Location|\n",
      "+--------+-----------+----------+--------------------+----+-------------------+--------------------+--------------------+------+--------+----+--------+----+--------------+--------+------------+------------+----+--------------------+------------+-------------+--------------------+\n",
      "|12045583|   JD226426|2020-05-07| 035XX S INDIANA AVE|0820|              THEFT|      $500 AND UNDER|           APARTMENT| false|   false| 212|       2|   3|            35|      06|     1178180|     1881621|2020|05/14/2020 08:47:...|41.830481843|-87.621751752|(41.830481843, -8...|\n",
      "|12031001|   JD209965|2020-04-16|     005XX W 32ND ST|0460|            BATTERY|              SIMPLE|           APARTMENT|  true|   false| 915|       9|  11|            60|     08B|     1173292|     1883705|2020|04/23/2020 03:45:...|41.836310224|-87.639624112|(41.836310224, -8...|\n",
      "|12093529|   JD282112|2020-07-01|   081XX S COLES AVE|051A|            ASSAULT|AGGRAVATED - HANDGUN|              STREET|  true|   false| 422|       4|   7|            46|     04A|     1198234|     1851595|2020|07/08/2020 03:41:...|41.747609555|-87.549179329|(41.747609555, -8...|\n",
      "|12178140|   JD381597|2020-09-27| 065XX S WOLCOTT AVE|0460|            BATTERY|              SIMPLE|RESIDENCE - PORCH...| false|   false| 726|       7|  15|            67|     08B|     1164812|     1861251|2020|10/04/2020 03:43:...| 41.77487752|-87.671374872|(41.77487752, -87...|\n",
      "|12126129|   JD321064|2020-08-04| 081XX S LOOMIS BLVD|143A|  WEAPONS VIOLATION|UNLAWFUL POSSESSI...|              STREET|  true|   false| 613|       6|  21|            71|      15|     1168412|     1850836|2020|08/11/2020 03:42:...|41.746220584|-87.658477307|(41.746220584, -8...|\n",
      "|12067286|   JD251718|2020-06-02| 042XX S EMERALD AVE|0820|              THEFT|      $500 AND UNDER|              STREET|  true|   false| 925|       9|  11|            61|      06|     1172009|     1876708|2020|06/09/2020 03:43:...|41.817138145|-87.644537728|(41.817138145, -8...|\n",
      "|12163191|   JD364357|2020-09-11|008XX N TRUMBULL AVE|0486|            BATTERY|DOMESTIC BATTERY ...|           RESIDENCE|  true|    true|1121|      11|  27|            23|     08B|     1153223|     1905475|2020|09/07/2021 03:41:...|41.896470682|-87.712687444|(41.896470682, -8...|\n",
      "|12142075|   JD339709|2020-08-21|015XX N MILWAUKEE...|0420|            BATTERY|AGGRAVATED - KNIF...|            SIDEWALK| false|   false|1424|      14|   1|            24|     04B|     1163078|     1910357|2020|08/28/2020 03:42:...| 41.90966592|-87.676354472|(41.90966592, -87...|\n",
      "|12005594|   JD181480|2020-03-11|     040XX W 26TH ST|0860|              THEFT|        RETAIL THEFT|  SMALL RETAIL STORE| false|   false|1031|      10|  22|            30|      06|     1150021|     1886423|2020|03/18/2020 03:41:...|41.844252757|-87.724943845|(41.844252757, -8...|\n",
      "|12070567|   JD249245|2020-06-01|024XX N MILWAUKEE...|0620|           BURGLARY|      UNLAWFUL ENTRY|  SMALL RETAIL STORE| false|   false|1414|      14|   1|            22|      05|     1156086|     1916141|2020|07/06/2020 03:40:...|41.925681769|-87.701883719|(41.925681769, -8...|\n",
      "|12057551|   JD240361|2020-05-23| 068XX S LOOMIS BLVD|0486|            BATTERY|DOMESTIC BATTERY ...|              STREET| false|    true| 724|       7|  17|            67|     08B|     1168179|     1859299|2020|09/07/2021 03:41:...|41.769449202|-87.659088027|(41.769449202, -8...|\n",
      "|12057185|   JD239952|2020-05-22|   0000X N LOREL AVE|2024|          NARCOTICS|POSSESS - HEROIN ...|              STREET|  true|   false|1522|      15|  28|            25|      18|     1140721|     1899686|2020|05/29/2020 03:41:...|41.880823946|-87.758747941|(41.880823946, -8...|\n",
      "|12107263|   JD298884|2020-07-15| 070XX S CHAPPEL AVE|0560|            ASSAULT|              SIMPLE|           APARTMENT| false|    true| 331|       3|   5|            43|     08A|     1191099|     1858560|2020|07/22/2020 03:42:...|41.766897557|-87.575098672|(41.766897557, -8...|\n",
      "|12164381|   JD361415|2020-09-09|  081XX S VERNON AVE|0560|            ASSAULT|              SIMPLE|           RESIDENCE| false|   false| 631|       6|   6|            44|     08A|     1180660|     1851072|2020|09/16/2020 03:41:...|41.746595831|-87.613590958|(41.746595831, -8...|\n",
      "|12126191|   JD321188|2020-08-05|025XX S MICHIGAN AVE|0454|            BATTERY|AGGRAVATED P.O. -...|HOSPITAL BUILDING...|  true|   false| 133|       1|   4|            33|     08B|     1177647|     1887564|2020|08/12/2020 03:41:...|41.846801978|-87.623527134|(41.846801978, -8...|\n",
      "|12018869|   JD196508|2020-03-27|066XX S SPAULDING...|141A|  WEAPONS VIOLATION|UNLAWFUL USE - HA...|              STREET| false|   false| 831|       8|  15|            66|      15|     1155539|     1860219|2020|04/03/2020 03:58:...|41.772236394|-87.705396225|(41.772236394, -8...|\n",
      "|12044629|   JD225380|2020-05-05|   079XX S THROOP ST|0810|              THEFT|           OVER $500|              STREET| false|   false| 612|       6|  21|            71|      06|     1169042|     1851982|2020|05/12/2020 03:42:...|41.749351783|-87.656135797|(41.749351783, -8...|\n",
      "|12157580|   JD357987|2020-09-05| 022XX W MAYPOLE AVE|0486|            BATTERY|DOMESTIC BATTERY ...|       CHA APARTMENT| false|    true|1223|      12|  27|            28|     08B|     1161251|     1900967|2020|09/12/2020 03:41:...|41.883937205|-87.683327432|(41.883937205, -8...|\n",
      "|12045468|   JD225478|2020-05-05|    104XX S AVENUE M|0910|MOTOR VEHICLE THEFT|          AUTOMOBILE|DRIVEWAY - RESIDE...| false|   false| 432|       4|  10|            52|      07|     1201505|     1836426|2020|05/12/2020 03:42:...|41.705902269|-87.537707456|(41.705902269, -8...|\n",
      "|12132877|   JD329246|2020-08-12|102XX S DR MARTIN...|1310|    CRIMINAL DAMAGE|         TO PROPERTY|           RESIDENCE| false|   false| 511|       5|   9|            49|      14|     1180720|     1837168|2020|08/19/2020 03:51:...|41.708440181|-87.613796977|(41.708440181, -8...|\n",
      "+--------+-----------+----------+--------------------+----+-------------------+--------------------+--------------------+------+--------+----+--------+----+--------------+--------+------------+------------+----+--------------------+------------+-------------+--------------------+\n",
      "only showing top 20 rows\n",
      "\n"
     ]
    }
   ],
   "source": [
    "crime_types = ['NON-CRIMINAL (SUBJECT SPECIFIED)', 'OTHER OFFENSE', 'STALKING', 'NON - CRIMINAL', 'ARSON']\n",
    "df2 = ten_years.filter(~col(\"Primary Type\").isin(crime_types))\n",
    "df2.show()"
   ]
  },
  {
   "cell_type": "code",
   "execution_count": 83,
   "id": "84b757d1",
   "metadata": {},
   "outputs": [
    {
     "data": {
      "text/plain": [
       "DataFrame[ID: int, Case Number: string, Date: date, Block: string, IUCR: string, Primary Type: string, Description: string, Location Description: string, Arrest: boolean, Domestic: boolean, Beat: int, District: int, Ward: int, Community Area: int, FBI Code: string, X Coordinate: int, Y Coordinate: int, Year: int, Updated On: string, Latitude: double, Longitude: double, Location: string]"
      ]
     },
     "metadata": {},
     "output_type": "display_data"
    }
   ],
   "source": [
    "display(df2)"
   ]
  },
  {
   "cell_type": "code",
   "execution_count": 84,
   "id": "ccb36484",
   "metadata": {},
   "outputs": [
    {
     "name": "stderr",
     "output_type": "stream",
     "text": [
      "[Stage 401:=======================================>               (10 + 4) / 14]\r"
     ]
    },
    {
     "name": "stdout",
     "output_type": "stream",
     "text": [
      "+--------------------+\n",
      "|        Primary Type|\n",
      "+--------------------+\n",
      "|OFFENSE INVOLVING...|\n",
      "|CRIMINAL SEXUAL A...|\n",
      "|PUBLIC PEACE VIOL...|\n",
      "|           OBSCENITY|\n",
      "|            GAMBLING|\n",
      "|   CRIMINAL TRESPASS|\n",
      "|             ASSAULT|\n",
      "|LIQUOR LAW VIOLATION|\n",
      "| MOTOR VEHICLE THEFT|\n",
      "|               THEFT|\n",
      "|             BATTERY|\n",
      "|             ROBBERY|\n",
      "|            HOMICIDE|\n",
      "|           RITUALISM|\n",
      "|    PUBLIC INDECENCY|\n",
      "| CRIM SEXUAL ASSAULT|\n",
      "|   HUMAN TRAFFICKING|\n",
      "|        INTIMIDATION|\n",
      "|        PROSTITUTION|\n",
      "|  DECEPTIVE PRACTICE|\n",
      "|CONCEALED CARRY L...|\n",
      "|         SEX OFFENSE|\n",
      "|     CRIMINAL DAMAGE|\n",
      "|           NARCOTICS|\n",
      "|        NON-CRIMINAL|\n",
      "|          KIDNAPPING|\n",
      "|            BURGLARY|\n",
      "|   WEAPONS VIOLATION|\n",
      "|OTHER NARCOTIC VI...|\n",
      "|INTERFERENCE WITH...|\n",
      "+--------------------+\n",
      "\n"
     ]
    },
    {
     "name": "stderr",
     "output_type": "stream",
     "text": [
      "\r",
      "                                                                                \r"
     ]
    }
   ],
   "source": [
    "c=df2.select(\"Primary Type\").distinct()\n",
    "c.show(100)"
   ]
  },
  {
   "cell_type": "markdown",
   "id": "71a5bc80",
   "metadata": {},
   "source": [
    "displaying the distinct values of the Primary Type column"
   ]
  },
  {
   "cell_type": "markdown",
   "id": "586dd133",
   "metadata": {},
   "source": [
    "# Merging the similar Crime Types"
   ]
  },
  {
   "cell_type": "code",
   "execution_count": 85,
   "id": "9b386acb",
   "metadata": {},
   "outputs": [
    {
     "name": "stdout",
     "output_type": "stream",
     "text": [
      "+--------+-----------+----------+--------------------+----+-----------------+--------------------+--------------------+------+--------+----+--------+----+--------------+--------+------------+------------+----+--------------------+------------+-------------+--------------------+\n",
      "|      ID|Case Number|      Date|               Block|IUCR|     Primary Type|         Description|Location Description|Arrest|Domestic|Beat|District|Ward|Community Area|FBI Code|X Coordinate|Y Coordinate|Year|          Updated On|    Latitude|    Longitude|            Location|\n",
      "+--------+-----------+----------+--------------------+----+-----------------+--------------------+--------------------+------+--------+----+--------+----+--------------+--------+------------+------------+----+--------------------+------------+-------------+--------------------+\n",
      "|12045583|   JD226426|2020-05-07| 035XX S INDIANA AVE|0820|            THEFT|      $500 AND UNDER|           APARTMENT| false|   false| 212|       2|   3|            35|      06|     1178180|     1881621|2020|05/14/2020 08:47:...|41.830481843|-87.621751752|(41.830481843, -8...|\n",
      "|12031001|   JD209965|2020-04-16|     005XX W 32ND ST|0460|          ASSAULT|              SIMPLE|           APARTMENT|  true|   false| 915|       9|  11|            60|     08B|     1173292|     1883705|2020|04/23/2020 03:45:...|41.836310224|-87.639624112|(41.836310224, -8...|\n",
      "|12093529|   JD282112|2020-07-01|   081XX S COLES AVE|051A|          ASSAULT|AGGRAVATED - HANDGUN|              STREET|  true|   false| 422|       4|   7|            46|     04A|     1198234|     1851595|2020|07/08/2020 03:41:...|41.747609555|-87.549179329|(41.747609555, -8...|\n",
      "|12178140|   JD381597|2020-09-27| 065XX S WOLCOTT AVE|0460|          ASSAULT|              SIMPLE|RESIDENCE - PORCH...| false|   false| 726|       7|  15|            67|     08B|     1164812|     1861251|2020|10/04/2020 03:43:...| 41.77487752|-87.671374872|(41.77487752, -87...|\n",
      "|12126129|   JD321064|2020-08-04| 081XX S LOOMIS BLVD|143A|WEAPONS VIOLATION|UNLAWFUL POSSESSI...|              STREET|  true|   false| 613|       6|  21|            71|      15|     1168412|     1850836|2020|08/11/2020 03:42:...|41.746220584|-87.658477307|(41.746220584, -8...|\n",
      "|12067286|   JD251718|2020-06-02| 042XX S EMERALD AVE|0820|            THEFT|      $500 AND UNDER|              STREET|  true|   false| 925|       9|  11|            61|      06|     1172009|     1876708|2020|06/09/2020 03:43:...|41.817138145|-87.644537728|(41.817138145, -8...|\n",
      "|12163191|   JD364357|2020-09-11|008XX N TRUMBULL AVE|0486|          ASSAULT|DOMESTIC BATTERY ...|           RESIDENCE|  true|    true|1121|      11|  27|            23|     08B|     1153223|     1905475|2020|09/07/2021 03:41:...|41.896470682|-87.712687444|(41.896470682, -8...|\n",
      "|12142075|   JD339709|2020-08-21|015XX N MILWAUKEE...|0420|          ASSAULT|AGGRAVATED - KNIF...|            SIDEWALK| false|   false|1424|      14|   1|            24|     04B|     1163078|     1910357|2020|08/28/2020 03:42:...| 41.90966592|-87.676354472|(41.90966592, -87...|\n",
      "|12005594|   JD181480|2020-03-11|     040XX W 26TH ST|0860|            THEFT|        RETAIL THEFT|  SMALL RETAIL STORE| false|   false|1031|      10|  22|            30|      06|     1150021|     1886423|2020|03/18/2020 03:41:...|41.844252757|-87.724943845|(41.844252757, -8...|\n",
      "|12070567|   JD249245|2020-06-01|024XX N MILWAUKEE...|0620|            THEFT|      UNLAWFUL ENTRY|  SMALL RETAIL STORE| false|   false|1414|      14|   1|            22|      05|     1156086|     1916141|2020|07/06/2020 03:40:...|41.925681769|-87.701883719|(41.925681769, -8...|\n",
      "|12057551|   JD240361|2020-05-23| 068XX S LOOMIS BLVD|0486|          ASSAULT|DOMESTIC BATTERY ...|              STREET| false|    true| 724|       7|  17|            67|     08B|     1168179|     1859299|2020|09/07/2021 03:41:...|41.769449202|-87.659088027|(41.769449202, -8...|\n",
      "|12057185|   JD239952|2020-05-22|   0000X N LOREL AVE|2024|        NARCOTICS|POSSESS - HEROIN ...|              STREET|  true|   false|1522|      15|  28|            25|      18|     1140721|     1899686|2020|05/29/2020 03:41:...|41.880823946|-87.758747941|(41.880823946, -8...|\n",
      "|12107263|   JD298884|2020-07-15| 070XX S CHAPPEL AVE|0560|          ASSAULT|              SIMPLE|           APARTMENT| false|    true| 331|       3|   5|            43|     08A|     1191099|     1858560|2020|07/22/2020 03:42:...|41.766897557|-87.575098672|(41.766897557, -8...|\n",
      "|12164381|   JD361415|2020-09-09|  081XX S VERNON AVE|0560|          ASSAULT|              SIMPLE|           RESIDENCE| false|   false| 631|       6|   6|            44|     08A|     1180660|     1851072|2020|09/16/2020 03:41:...|41.746595831|-87.613590958|(41.746595831, -8...|\n",
      "|12126191|   JD321188|2020-08-05|025XX S MICHIGAN AVE|0454|          ASSAULT|AGGRAVATED P.O. -...|HOSPITAL BUILDING...|  true|   false| 133|       1|   4|            33|     08B|     1177647|     1887564|2020|08/12/2020 03:41:...|41.846801978|-87.623527134|(41.846801978, -8...|\n",
      "|12018869|   JD196508|2020-03-27|066XX S SPAULDING...|141A|WEAPONS VIOLATION|UNLAWFUL USE - HA...|              STREET| false|   false| 831|       8|  15|            66|      15|     1155539|     1860219|2020|04/03/2020 03:58:...|41.772236394|-87.705396225|(41.772236394, -8...|\n",
      "|12044629|   JD225380|2020-05-05|   079XX S THROOP ST|0810|            THEFT|           OVER $500|              STREET| false|   false| 612|       6|  21|            71|      06|     1169042|     1851982|2020|05/12/2020 03:42:...|41.749351783|-87.656135797|(41.749351783, -8...|\n",
      "|12157580|   JD357987|2020-09-05| 022XX W MAYPOLE AVE|0486|          ASSAULT|DOMESTIC BATTERY ...|       CHA APARTMENT| false|    true|1223|      12|  27|            28|     08B|     1161251|     1900967|2020|09/12/2020 03:41:...|41.883937205|-87.683327432|(41.883937205, -8...|\n",
      "|12045468|   JD225478|2020-05-05|    104XX S AVENUE M|0910|            THEFT|          AUTOMOBILE|DRIVEWAY - RESIDE...| false|   false| 432|       4|  10|            52|      07|     1201505|     1836426|2020|05/12/2020 03:42:...|41.705902269|-87.537707456|(41.705902269, -8...|\n",
      "|12132877|   JD329246|2020-08-12|102XX S DR MARTIN...|1310|  CRIMINAL DAMAGE|         TO PROPERTY|           RESIDENCE| false|   false| 511|       5|   9|            49|      14|     1180720|     1837168|2020|08/19/2020 03:51:...|41.708440181|-87.613796977|(41.708440181, -8...|\n",
      "+--------+-----------+----------+--------------------+----+-----------------+--------------------+--------------------+------+--------+----+--------+----+--------------+--------+------------+------------+----+--------------------+------------+-------------+--------------------+\n",
      "only showing top 20 rows\n",
      "\n"
     ]
    }
   ],
   "source": [
    "from pyspark.sql.functions import when\n",
    "\n",
    "merged_crime_types = when(df2[\"Primary Type\"].isin('SEX OFFENSE', 'PROSTITUTION'), 'SEX OFFENSE/PROSTITUTION').otherwise(df2[\"Primary Type\"])\n",
    "df3 = df2.withColumn(\"Primary Type\", merged_crime_types)\n",
    "\n",
    "merged_crime_type1 = when(df3[\"Primary Type\"].isin('UNLAWFUL ENTRY', 'FORCIBLE ENTRY'), 'FORCE ENTRY').otherwise(df3[\"Primary Type\"])\n",
    "df4 = df3.withColumn(\"Primary Type\", merged_crime_type1)\n",
    "\n",
    "merged_crime_type2 = when(df4[\"Primary Type\"].isin('THEFT', 'ROBBERY','RETAIL THEFT','MOTOR VEHICLE THEFT','BURGLARY'), 'THEFT').otherwise(df4[\"Primary Type\"])\n",
    "df5 = df4.withColumn(\"Primary Type\", merged_crime_type2)\n",
    "\n",
    "merged_crime_type3 = when(df5[\"Primary Type\"].isin('PUBLIC INDECENCY', 'PUBLIC PEACE VIOLATION'), 'PUBLIC VIOLATION').otherwise(df5[\"Primary Type\"])\n",
    "df6 = df5.withColumn(\"Primary Type\", merged_crime_type3)\n",
    "\n",
    "merged_crime_type4 = when(df6[\"Primary Type\"].isin('BATTERY', 'ASSAULT'), 'ASSAULT').otherwise(df6[\"Primary Type\"])\n",
    "df7 = df6.withColumn(\"Primary Type\", merged_crime_type4)\n",
    "\n",
    "\n",
    "df7.show()"
   ]
  },
  {
   "cell_type": "code",
   "execution_count": 86,
   "id": "973ec973",
   "metadata": {},
   "outputs": [
    {
     "name": "stderr",
     "output_type": "stream",
     "text": [
      "[Stage 405:=======================================>               (10 + 4) / 14]\r"
     ]
    },
    {
     "name": "stdout",
     "output_type": "stream",
     "text": [
      "+--------------------+\n",
      "|        Primary Type|\n",
      "+--------------------+\n",
      "|OFFENSE INVOLVING...|\n",
      "|CRIMINAL SEXUAL A...|\n",
      "|    PUBLIC VIOLATION|\n",
      "|           OBSCENITY|\n",
      "|            GAMBLING|\n",
      "|   CRIMINAL TRESPASS|\n",
      "|             ASSAULT|\n",
      "|LIQUOR LAW VIOLATION|\n",
      "|               THEFT|\n",
      "|SEX OFFENSE/PROST...|\n",
      "|            HOMICIDE|\n",
      "|           RITUALISM|\n",
      "| CRIM SEXUAL ASSAULT|\n",
      "|   HUMAN TRAFFICKING|\n",
      "|        INTIMIDATION|\n",
      "|  DECEPTIVE PRACTICE|\n",
      "|CONCEALED CARRY L...|\n",
      "|     CRIMINAL DAMAGE|\n",
      "|           NARCOTICS|\n",
      "|        NON-CRIMINAL|\n",
      "+--------------------+\n",
      "only showing top 20 rows\n",
      "\n"
     ]
    },
    {
     "name": "stderr",
     "output_type": "stream",
     "text": [
      "\r",
      "                                                                                \r"
     ]
    }
   ],
   "source": [
    "x=df7.select('Primary Type').distinct()\n",
    "x.show()"
   ]
  },
  {
   "cell_type": "markdown",
   "id": "0659819e",
   "metadata": {},
   "source": [
    "displaying the distinct values of the Primary Type column in the merged crime types dataframe"
   ]
  },
  {
   "cell_type": "code",
   "execution_count": 87,
   "id": "4c55f351",
   "metadata": {},
   "outputs": [
    {
     "name": "stderr",
     "output_type": "stream",
     "text": [
      "                                                                                \r"
     ]
    },
    {
     "data": {
      "text/plain": [
       "['OFFENSE INVOLVING CHILDREN',\n",
       " 'CRIMINAL SEXUAL ASSAULT',\n",
       " 'PUBLIC VIOLATION',\n",
       " 'OBSCENITY',\n",
       " 'GAMBLING',\n",
       " 'CRIMINAL TRESPASS',\n",
       " 'ASSAULT',\n",
       " 'LIQUOR LAW VIOLATION',\n",
       " 'THEFT',\n",
       " 'SEX OFFENSE/PROSTITUTION',\n",
       " 'HOMICIDE',\n",
       " 'RITUALISM',\n",
       " 'CRIM SEXUAL ASSAULT',\n",
       " 'HUMAN TRAFFICKING',\n",
       " 'INTIMIDATION',\n",
       " 'DECEPTIVE PRACTICE',\n",
       " 'CONCEALED CARRY LICENSE VIOLATION',\n",
       " 'CRIMINAL DAMAGE',\n",
       " 'NARCOTICS',\n",
       " 'NON-CRIMINAL',\n",
       " 'KIDNAPPING',\n",
       " 'WEAPONS VIOLATION',\n",
       " 'OTHER NARCOTIC VIOLATION',\n",
       " 'INTERFERENCE WITH PUBLIC OFFICER']"
      ]
     },
     "execution_count": 87,
     "metadata": {},
     "output_type": "execute_result"
    }
   ],
   "source": [
    "list=[data[0] for data in x.select('Primary Type').collect()]\n",
    "list"
   ]
  },
  {
   "cell_type": "markdown",
   "id": "39cbe498",
   "metadata": {},
   "source": [
    "Listing the Primary type column in the merged crime types dataframe"
   ]
  },
  {
   "cell_type": "markdown",
   "id": "e1215862",
   "metadata": {},
   "source": [
    "# Year wise trend of the crime occured in the last ten years"
   ]
  },
  {
   "cell_type": "code",
   "execution_count": 88,
   "id": "3f7f5225",
   "metadata": {},
   "outputs": [
    {
     "name": "stderr",
     "output_type": "stream",
     "text": [
      "                                                                                \r"
     ]
    },
    {
     "name": "stdout",
     "output_type": "stream",
     "text": [
      "Year: 2013\n",
      "Total No ofCrimes: 287822\n",
      "Trending Crime in Chicago: THEFT with 113732 occurrences\n",
      "\n"
     ]
    },
    {
     "name": "stderr",
     "output_type": "stream",
     "text": [
      "                                                                                \r"
     ]
    },
    {
     "name": "stdout",
     "output_type": "stream",
     "text": [
      "Year: 2014\n",
      "Total No ofCrimes: 256123\n",
      "Trending Crime in Chicago: THEFT with 95592 occurrences\n",
      "\n"
     ]
    },
    {
     "name": "stderr",
     "output_type": "stream",
     "text": [
      "                                                                                \r"
     ]
    },
    {
     "name": "stdout",
     "output_type": "stream",
     "text": [
      "Year: 2015\n",
      "Total No ofCrimes: 239889\n",
      "Trending Crime in Chicago: THEFT with 89431 occurrences\n",
      "\n"
     ]
    },
    {
     "name": "stderr",
     "output_type": "stream",
     "text": [
      "                                                                                \r"
     ]
    },
    {
     "name": "stdout",
     "output_type": "stream",
     "text": [
      "Year: 2016\n",
      "Total No ofCrimes: 248589\n",
      "Trending Crime in Chicago: THEFT with 98532 occurrences\n",
      "\n"
     ]
    },
    {
     "name": "stderr",
     "output_type": "stream",
     "text": [
      "                                                                                \r"
     ]
    },
    {
     "name": "stdout",
     "output_type": "stream",
     "text": [
      "Year: 2017\n",
      "Total No ofCrimes: 246560\n",
      "Trending Crime in Chicago: THEFT with 99736 occurrences\n",
      "\n"
     ]
    },
    {
     "name": "stderr",
     "output_type": "stream",
     "text": [
      "                                                                                \r"
     ]
    },
    {
     "name": "stdout",
     "output_type": "stream",
     "text": [
      "Year: 2018\n",
      "Total No ofCrimes: 245378\n",
      "Trending Crime in Chicago: THEFT with 95315 occurrences\n",
      "\n"
     ]
    },
    {
     "name": "stderr",
     "output_type": "stream",
     "text": [
      "                                                                                \r"
     ]
    },
    {
     "name": "stdout",
     "output_type": "stream",
     "text": [
      "Year: 2019\n",
      "Total No ofCrimes: 240849\n",
      "Trending Crime in Chicago: THEFT with 88258 occurrences\n",
      "\n"
     ]
    },
    {
     "name": "stderr",
     "output_type": "stream",
     "text": [
      "                                                                                \r"
     ]
    },
    {
     "name": "stdout",
     "output_type": "stream",
     "text": [
      "Year: 2020\n",
      "Total No ofCrimes: 193864\n",
      "Trending Crime in Chicago: THEFT with 66511 occurrences\n",
      "\n"
     ]
    },
    {
     "name": "stderr",
     "output_type": "stream",
     "text": [
      "                                                                                \r"
     ]
    },
    {
     "name": "stdout",
     "output_type": "stream",
     "text": [
      "Year: 2021\n",
      "Total No ofCrimes: 187552\n",
      "Trending Crime in Chicago: THEFT with 64195 occurrences\n",
      "\n"
     ]
    },
    {
     "name": "stderr",
     "output_type": "stream",
     "text": [
      "                                                                                \r"
     ]
    },
    {
     "name": "stdout",
     "output_type": "stream",
     "text": [
      "Year: 2022\n",
      "Total No ofCrimes: 217404\n",
      "Trending Crime in Chicago: THEFT with 90840 occurrences\n",
      "\n"
     ]
    },
    {
     "name": "stderr",
     "output_type": "stream",
     "text": [
      "[Stage 474:=======================================>               (10 + 4) / 14]\r"
     ]
    },
    {
     "name": "stdout",
     "output_type": "stream",
     "text": [
      "Year: 2023\n",
      "Total No ofCrimes: 190540\n",
      "Trending Crime in Chicago: THEFT with 81304 occurrences\n",
      "\n"
     ]
    },
    {
     "name": "stderr",
     "output_type": "stream",
     "text": [
      "\r",
      "[Stage 474:===============================================>       (12 + 2) / 14]\r",
      "\r",
      "                                                                                \r"
     ]
    }
   ],
   "source": [
    "sum1 = []\n",
    "\n",
    "for year in range(2013, 2024):\n",
    "    filtered_data = df7.filter(col('Year') == str(year))\n",
    "    \n",
    "    crime_counts = filtered_data.groupBy('Primary Type').count()\n",
    "    \n",
    "    crime_count_dict = {row['Primary Type']: row['count'] for row in crime_counts.collect()}\n",
    "    max_count = 0\n",
    "    trending_crime = None\n",
    "    \n",
    "    total_count = filtered_data.count()\n",
    "    \n",
    "    for crime_type in list:\n",
    "        count = crime_count_dict.get(crime_type, 0)\n",
    "        if count > max_count:\n",
    "            max_count = count\n",
    "            trending_crime = crime_type\n",
    "    \n",
    "    print(f\"Year: {year}\")\n",
    "    print(f\"Total No ofCrimes: {total_count}\")\n",
    "    print(f\"Trending Crime in Chicago: {trending_crime} with {max_count} occurrences\\n\")\n",
    "    \n",
    "    sum1.append(total_count)"
   ]
  },
  {
   "cell_type": "code",
   "execution_count": 89,
   "id": "e1630f52",
   "metadata": {},
   "outputs": [
    {
     "name": "stdout",
     "output_type": "stream",
     "text": [
      "    year   count\n",
      "0   2013  287822\n",
      "1   2014  256123\n",
      "2   2015  239889\n",
      "3   2016  248589\n",
      "4   2017  246560\n",
      "5   2018  245378\n",
      "6   2019  240849\n",
      "7   2020  193864\n",
      "8   2021  187552\n",
      "9   2022  217404\n",
      "10  2023  190540\n"
     ]
    }
   ],
   "source": [
    "import pandas as pd\n",
    "\n",
    "d = {\n",
    "    'year': [2013, 2014, 2015, 2016, 2017, 2018, 2019, 2020, 2021, 2022, 2023],\n",
    "    'count': sum1\n",
    "}\n",
    "df = pd.DataFrame(d)\n",
    "print(df)\n"
   ]
  },
  {
   "cell_type": "code",
   "execution_count": 90,
   "id": "6b6f6fd6",
   "metadata": {},
   "outputs": [
    {
     "data": {
      "image/png": "[encoded data removed]",
      "text/plain": [
       "<Figure size 1500x1500 with 1 Axes>"
      ]
     },
     "metadata": {},
     "output_type": "display_data"
    }
   ],
   "source": [
    "fig, ax = plt.subplots(figsize=(15, 15))\n",
    "ax.barh(df['year'], df['count'])\n",
    "ax.set_xlabel('Number of Counts')\n",
    "ax.set_ylabel('Year of Crime Occurance')\n",
    "ax.set_title('Crimes occured per Year')\n",
    "plt.show()"
   ]
  },
  {
   "cell_type": "markdown",
   "id": "a1fc440c",
   "metadata": {},
   "source": [
    "# Finding which hour of the day crime is highest"
   ]
  },
  {
   "cell_type": "code",
   "execution_count": 93,
   "id": "81a1a5b2",
   "metadata": {},
   "outputs": [
    {
     "name": "stderr",
     "output_type": "stream",
     "text": [
      "[Stage 549:===========================================>           (11 + 3) / 14]\r"
     ]
    },
    {
     "name": "stdout",
     "output_type": "stream",
     "text": [
      "The hour with the highest crime is Row(Hour=0, count=2554570) o'clock with 2554570 crimes.\n"
     ]
    },
    {
     "name": "stderr",
     "output_type": "stream",
     "text": [
      "\r",
      "[Stage 549:===================================================>   (13 + 1) / 14]\r",
      "\r",
      "                                                                                \r"
     ]
    }
   ],
   "source": [
    "from pyspark.sql.functions import hour\n",
    "\n",
    "x= df2.groupBy(hour(df2[\"Date\"]).alias(\"Hour\")).count().orderBy(\"count\", ascending=False)\n",
    "\n",
    "y= x.first()\n",
    "\n",
    "z = y[\"Hour\"]\n",
    "crime_count = y[\"count\"]\n",
    "\n",
    "print(f\"The hour with the highest crime is {y} o'clock with {crime_count} crimes.\")\n"
   ]
  },
  {
   "cell_type": "markdown",
   "id": "65507e0a",
   "metadata": {},
   "source": [
    "# Top ten crimes occured in Chicago and plotting them"
   ]
  },
  {
   "cell_type": "code",
   "execution_count": 95,
   "id": "e13fce30",
   "metadata": {},
   "outputs": [
    {
     "name": "stderr",
     "output_type": "stream",
     "text": [
      "[Stage 666:=======================================>               (10 + 4) / 14]\r"
     ]
    },
    {
     "name": "stdout",
     "output_type": "stream",
     "text": [
      "[22491, 6443, 17772, 542, 2081, 64247, 715807, 2732, 983446, 19598, 6765, 1, 8799, 91, 1625, 167670, 1174, 301458, 156410, 166, 1822, 62699, 58, 10673]\n",
      "['OFFENSE INVOLVING CHILDREN', 'CRIMINAL SEXUAL ASSAULT', 'PUBLIC VIOLATION', 'OBSCENITY', 'GAMBLING', 'CRIMINAL TRESPASS', 'ASSAULT', 'LIQUOR LAW VIOLATION', 'THEFT', 'SEX OFFENSE/PROSTITUTION', 'HOMICIDE', 'RITUALISM', 'CRIM SEXUAL ASSAULT', 'HUMAN TRAFFICKING', 'INTIMIDATION', 'DECEPTIVE PRACTICE', 'CONCEALED CARRY LICENSE VIOLATION', 'CRIMINAL DAMAGE', 'NARCOTICS', 'NON-CRIMINAL', 'KIDNAPPING', 'WEAPONS VIOLATION', 'OTHER NARCOTIC VIOLATION', 'INTERFERENCE WITH PUBLIC OFFICER']\n"
     ]
    },
    {
     "name": "stderr",
     "output_type": "stream",
     "text": [
      "\r",
      "[Stage 666:===============================================>       (12 + 2) / 14]\r",
      "\r",
      "                                                                                \r"
     ]
    }
   ],
   "source": [
    "from pyspark.sql.functions import col\n",
    "\n",
    "distinct_type = [row['Primary Type'] for row in df7.select(col('Primary Type')).distinct().collect()]\n",
    "\n",
    "crime_count = [df7.filter(col('Primary Type') == crime_type).count() for crime_type in distinct_type]\n",
    "\n",
    "print(crime_count)\n",
    "print(distinct_type)\n"
   ]
  },
  {
   "cell_type": "code",
   "execution_count": 96,
   "id": "76350364",
   "metadata": {
    "scrolled": true
   },
   "outputs": [
    {
     "data": {
      "image/png": "[encoded data removed]",
      "text/plain": [
       "<Figure size 1500x1500 with 1 Axes>"
      ]
     },
     "metadata": {},
     "output_type": "display_data"
    }
   ],
   "source": [
    "data={\n",
    "    'crimename':distinct_type,\n",
    "    'count':crime_count\n",
    "}\n",
    "df = pd.DataFrame(data)\n",
    "\n",
    "top_crimes = df.nlargest(10, 'count')\n",
    "plt.figure(figsize=(15, 15))\n",
    "plt.barh(top_crimes['crimename'], top_crimes['count'])\n",
    "plt.xlabel('Number of Counts')\n",
    "plt.ylabel('Crime Type')\n",
    "plt.title('Top Ten Crimes in Chicago')\n",
    "plt.gca().invert_yaxis()\n",
    "plt.show()"
   ]
  },
  {
   "cell_type": "code",
   "execution_count": null,
   "id": "12139a45",
   "metadata": {},
   "outputs": [],
   "source": []
  }
 ],
 "metadata": {
  "kernelspec": {
   "display_name": "Python 3 (ipykernel)",
   "language": "python",
   "name": "python3"
  },
  "language_info": {
   "codemirror_mode": {
    "name": "ipython",
    "version": 3
   },
   "file_extension": ".py",
   "mimetype": "text/x-python",
   "name": "python",
   "nbconvert_exporter": "python",
   "pygments_lexer": "ipython3",
   "version": "3.9.13"
  }
 },
 "nbformat": 4,
 "nbformat_minor": 5
}
